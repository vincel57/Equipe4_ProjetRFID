{
 "cells": [
  {
   "cell_type": "code",
   "execution_count": 45,
   "metadata": {
    "colab": {},
    "colab_type": "code",
    "id": "YELosqgI0JXJ"
   },
   "outputs": [],
   "source": [
    "import pandas as pd\n",
    "import numpy as np\n",
    "import matplotlib.pyplot as plt\n",
    "import os\n",
    "import datetime"
   ]
  },
  {
   "cell_type": "markdown",
   "metadata": {
    "colab_type": "text",
    "id": "7zST4TVM1TuO"
   },
   "source": []
  },
  {
   "cell_type": "code",
   "execution_count": 47,
   "metadata": {
    "colab": {
     "base_uri": "https://localhost:8080/",
     "height": 649
    },
    "colab_type": "code",
    "executionInfo": {
     "elapsed": 5552,
     "status": "ok",
     "timestamp": 1588018737945,
     "user": {
      "displayName": "Christophe Loussert",
      "photoUrl": "",
      "userId": "16796903251132996478"
     },
     "user_tz": -120
    },
    "id": "-m9AI7NR0JXR",
    "outputId": "455c9fb5-0d7d-4716-8439-015200d5cd05"
   },
   "outputs": [
    {
     "name": "stdout",
     "output_type": "stream",
     "text": [
      "ano_APTags-TagsAutomatedProcess-2019-11-07-16_29_46.csv\n",
      "ano_APTags-TagsAutomatedProcess-2019-11-07-16_57_34.csv\n",
      "ano_APTags-TagsAutomatedProcess-2019-11-07-17_16_18.csv\n",
      "ano_APTags-TagsAutomatedProcess-2019-11-07-17_32_19.csv\n",
      "ano_APTags-TagsAutomatedProcess-2019-11-07-17_58_50.csv\n",
      "ano_APTags-TagsAutomatedProcess-2019-11-07-18_13_30.csv\n",
      "ano_APTags-TagsAutomatedProcess-2019-11-07-18_21_44.csv\n",
      "ano_APTags-TagsAutomatedProcess-2019-11-07-18_30_01.csv\n",
      "ano_APTags-TagsAutomatedProcess-2019-11-07-18_38_19.csv\n",
      "ano_APTags-TagsAutomatedProcess-2019-11-07-18_49_44.csv\n",
      "ano_APTags-TagsAutomatedProcess-2019-11-07-19_00_26.csv\n",
      "ano_APTags-TagsAutomatedProcess-2019-11-07-19_10_51.csv\n",
      "ano_APTags-TagsAutomatedProcess-2019-11-07-19_20_14.csv\n",
      "ano_APTags-TagsAutomatedProcess-2019-11-07-19_29_54.csv\n",
      "ano_APTags-TagsAutomatedProcess-2019-11-08-10_55_25.csv\n",
      "ano_supply-process.2019-11-07-CUT.csv\n",
      "reflist_0.olpn\n",
      "reflist_1.olpn\n",
      "reflist_2.olpn\n",
      "reflist_3.olpn\n",
      "reflist_4.olpn\n",
      "reflist_5.olpn\n",
      "reflist_6.olpn\n",
      "reflist_7.olpn\n",
      "reflist_8.olpn\n",
      "reflist_9.olpn\n"
     ]
    },
    {
     "data": {
      "text/html": [
       "<div>\n",
       "<style scoped>\n",
       "    .dataframe tbody tr th:only-of-type {\n",
       "        vertical-align: middle;\n",
       "    }\n",
       "\n",
       "    .dataframe tbody tr th {\n",
       "        vertical-align: top;\n",
       "    }\n",
       "\n",
       "    .dataframe thead th {\n",
       "        text-align: right;\n",
       "    }\n",
       "</style>\n",
       "<table border=\"1\" class=\"dataframe\">\n",
       "  <thead>\n",
       "    <tr style=\"text-align: right;\">\n",
       "      <th></th>\n",
       "      <th>Epc</th>\n",
       "      <th>refListId_actual</th>\n",
       "      <th>Q refListId_actual</th>\n",
       "    </tr>\n",
       "  </thead>\n",
       "  <tbody>\n",
       "    <tr>\n",
       "      <td>0</td>\n",
       "      <td>epc_90</td>\n",
       "      <td>0</td>\n",
       "      <td>16</td>\n",
       "    </tr>\n",
       "    <tr>\n",
       "      <td>1</td>\n",
       "      <td>epc_91</td>\n",
       "      <td>0</td>\n",
       "      <td>16</td>\n",
       "    </tr>\n",
       "    <tr>\n",
       "      <td>2</td>\n",
       "      <td>epc_92</td>\n",
       "      <td>0</td>\n",
       "      <td>16</td>\n",
       "    </tr>\n",
       "    <tr>\n",
       "      <td>3</td>\n",
       "      <td>epc_93</td>\n",
       "      <td>0</td>\n",
       "      <td>16</td>\n",
       "    </tr>\n",
       "    <tr>\n",
       "      <td>4</td>\n",
       "      <td>epc_94</td>\n",
       "      <td>0</td>\n",
       "      <td>16</td>\n",
       "    </tr>\n",
       "  </tbody>\n",
       "</table>\n",
       "</div>"
      ],
      "text/plain": [
       "      Epc  refListId_actual  Q refListId_actual\n",
       "0  epc_90                 0                  16\n",
       "1  epc_91                 0                  16\n",
       "2  epc_92                 0                  16\n",
       "3  epc_93                 0                  16\n",
       "4  epc_94                 0                  16"
      ]
     },
     "execution_count": 47,
     "metadata": {},
     "output_type": "execute_result"
    }
   ],
   "source": [
    "\n",
    "pathfile=r'data_anonymous'\n",
    "\n",
    "# reflist: list of epc in each box\n",
    "reflist=pd.DataFrame()\n",
    "# \n",
    "files=os.listdir(pathfile)\n",
    "for file in files:\n",
    "    print(file)\n",
    "    if file.startswith('reflist_'):\n",
    "        temp=pd.read_csv(os.path.join(pathfile,file),sep=',').reset_index(drop=True)[['Epc']]\n",
    "        temp['refListId']=file.split('.')[0]\n",
    "        reflist=reflist.append(temp)\n",
    "reflist=reflist.rename(columns={'refListId':'refListId_actual'})\n",
    "reflist['refListId_actual']=reflist['refListId_actual'].apply(lambda x:int(x[8:]))\n",
    "Q_refListId_actual=reflist.groupby('refListId_actual')['Epc'].nunique().rename('Q refListId_actual').reset_index(drop=False)\n",
    "reflist=pd.merge(reflist,Q_refListId_actual,on='refListId_actual',how='left')\n",
    "reflist.head()"
   ]
  },
  {
   "cell_type": "markdown",
   "metadata": {
    "colab_type": "raw",
    "id": "SmNoqEdW0JXW"
   },
   "source": []
  },
  {
   "cell_type": "code",
   "execution_count": 48,
   "metadata": {
    "colab": {
     "base_uri": "https://localhost:8080/",
     "height": 649
    },
    "colab_type": "code",
    "executionInfo": {
     "elapsed": 14346,
     "status": "ok",
     "timestamp": 1588018763694,
     "user": {
      "displayName": "Christophe Loussert",
      "photoUrl": "",
      "userId": "16796903251132996478"
     },
     "user_tz": -120
    },
    "id": "uDalaKhY0JXX",
    "outputId": "d0d5ba0d-fa11-4d44-d444-5298abc9377e"
   },
   "outputs": [
    {
     "name": "stdout",
     "output_type": "stream",
     "text": [
      "ano_APTags-TagsAutomatedProcess-2019-11-07-16_29_46.csv\n",
      "ano_APTags-TagsAutomatedProcess-2019-11-07-16_57_34.csv\n",
      "ano_APTags-TagsAutomatedProcess-2019-11-07-17_16_18.csv\n",
      "ano_APTags-TagsAutomatedProcess-2019-11-07-17_32_19.csv\n",
      "ano_APTags-TagsAutomatedProcess-2019-11-07-17_58_50.csv\n",
      "ano_APTags-TagsAutomatedProcess-2019-11-07-18_13_30.csv\n",
      "ano_APTags-TagsAutomatedProcess-2019-11-07-18_21_44.csv\n",
      "ano_APTags-TagsAutomatedProcess-2019-11-07-18_30_01.csv\n",
      "ano_APTags-TagsAutomatedProcess-2019-11-07-18_38_19.csv\n",
      "ano_APTags-TagsAutomatedProcess-2019-11-07-18_49_44.csv\n",
      "ano_APTags-TagsAutomatedProcess-2019-11-07-19_00_26.csv\n",
      "ano_APTags-TagsAutomatedProcess-2019-11-07-19_10_51.csv\n",
      "ano_APTags-TagsAutomatedProcess-2019-11-07-19_20_14.csv\n",
      "ano_APTags-TagsAutomatedProcess-2019-11-07-19_29_54.csv\n",
      "ano_APTags-TagsAutomatedProcess-2019-11-08-10_55_25.csv\n",
      "ano_supply-process.2019-11-07-CUT.csv\n",
      "reflist_0.olpn\n",
      "reflist_1.olpn\n",
      "reflist_2.olpn\n",
      "reflist_3.olpn\n",
      "reflist_4.olpn\n",
      "reflist_5.olpn\n",
      "reflist_6.olpn\n",
      "reflist_7.olpn\n",
      "reflist_8.olpn\n",
      "reflist_9.olpn\n"
     ]
    },
    {
     "data": {
      "text/html": [
       "<div>\n",
       "<style scoped>\n",
       "    .dataframe tbody tr th:only-of-type {\n",
       "        vertical-align: middle;\n",
       "    }\n",
       "\n",
       "    .dataframe tbody tr th {\n",
       "        vertical-align: top;\n",
       "    }\n",
       "\n",
       "    .dataframe thead th {\n",
       "        text-align: right;\n",
       "    }\n",
       "</style>\n",
       "<table border=\"1\" class=\"dataframe\">\n",
       "  <thead>\n",
       "    <tr style=\"text-align: right;\">\n",
       "      <th></th>\n",
       "      <th>LogTime</th>\n",
       "      <th>Epc</th>\n",
       "      <th>Rssi</th>\n",
       "      <th>Ant</th>\n",
       "      <th>loc</th>\n",
       "    </tr>\n",
       "  </thead>\n",
       "  <tbody>\n",
       "    <tr>\n",
       "      <td>0</td>\n",
       "      <td>2019-11-07 15:32:10</td>\n",
       "      <td>epc_100</td>\n",
       "      <td>-69.0</td>\n",
       "      <td>3</td>\n",
       "      <td>out</td>\n",
       "    </tr>\n",
       "    <tr>\n",
       "      <td>1</td>\n",
       "      <td>2019-11-07 15:32:10</td>\n",
       "      <td>epc_97</td>\n",
       "      <td>-69.0</td>\n",
       "      <td>3</td>\n",
       "      <td>out</td>\n",
       "    </tr>\n",
       "    <tr>\n",
       "      <td>2</td>\n",
       "      <td>2019-11-07 15:32:10</td>\n",
       "      <td>epc_97</td>\n",
       "      <td>-65.0</td>\n",
       "      <td>3</td>\n",
       "      <td>out</td>\n",
       "    </tr>\n",
       "    <tr>\n",
       "      <td>3</td>\n",
       "      <td>2019-11-07 15:32:10</td>\n",
       "      <td>epc_99</td>\n",
       "      <td>-70.0</td>\n",
       "      <td>3</td>\n",
       "      <td>out</td>\n",
       "    </tr>\n",
       "    <tr>\n",
       "      <td>4</td>\n",
       "      <td>2019-11-07 15:32:10</td>\n",
       "      <td>epc_100</td>\n",
       "      <td>-66.0</td>\n",
       "      <td>3</td>\n",
       "      <td>out</td>\n",
       "    </tr>\n",
       "  </tbody>\n",
       "</table>\n",
       "</div>"
      ],
      "text/plain": [
       "              LogTime      Epc  Rssi  Ant  loc\n",
       "0 2019-11-07 15:32:10  epc_100 -69.0    3  out\n",
       "1 2019-11-07 15:32:10   epc_97 -69.0    3  out\n",
       "2 2019-11-07 15:32:10   epc_97 -65.0    3  out\n",
       "3 2019-11-07 15:32:10   epc_99 -70.0    3  out\n",
       "4 2019-11-07 15:32:10  epc_100 -66.0    3  out"
      ]
     },
     "execution_count": 48,
     "metadata": {},
     "output_type": "execute_result"
    }
   ],
   "source": [
    "# pathfile=r'data_anonymous'\n",
    "# \n",
    "# df : rfid readings\n",
    "df=pd.DataFrame()\n",
    "# \n",
    "files=os.listdir(pathfile)\n",
    "for file in files:\n",
    "    print(file)\n",
    "    if file.startswith('ano_APTags'):\n",
    "        temp=pd.read_csv(os.path.join(pathfile,file),sep=',')\n",
    "        df=df.append(temp)\n",
    "df['LogTime']=pd.to_datetime (df['LogTime'] ,format='%Y-%m-%d-%H:%M:%S') \n",
    "df['TimeStamp']=df['TimeStamp'].astype(float)\n",
    "df['Rssi']=df['Rssi'].astype(float)\n",
    "df=df.drop(['Reader','EmitPower','Frequency'],axis=1).reset_index(drop=True)\n",
    "df=df[['LogTime', 'Epc', 'Rssi', 'Ant']]\n",
    "# antennas 1 and 2 are facing the box when photocell in/out \n",
    "Ant_loc=pd.DataFrame({'Ant':[1,2,3,4],'loc':['in','in','out','out']})\n",
    "df=pd.merge(df,Ant_loc,on=['Ant'])\n",
    "df=df.sort_values('LogTime').reset_index(drop=True)\n",
    "df.head()"
   ]
  },
  {
   "cell_type": "code",
   "execution_count": 49,
   "metadata": {
    "colab": {
     "base_uri": "https://localhost:8080/",
     "height": 34
    },
    "colab_type": "code",
    "executionInfo": {
     "elapsed": 618,
     "status": "ok",
     "timestamp": 1588018768030,
     "user": {
      "displayName": "Christophe Loussert",
      "photoUrl": "",
      "userId": "16796903251132996478"
     },
     "user_tz": -120
    },
    "id": "KSYWAcS60JXd",
    "outputId": "52427d96-0e6a-4e3e-f7d4-393e1ee86a71"
   },
   "outputs": [
    {
     "data": {
      "text/plain": [
       "1204003"
      ]
     },
     "execution_count": 49,
     "metadata": {},
     "output_type": "execute_result"
    }
   ],
   "source": [
    "len(df)"
   ]
  },
  {
   "cell_type": "code",
   "execution_count": null,
   "metadata": {
    "colab": {},
    "colab_type": "code",
    "id": "tuXLimgK0JXk"
   },
   "outputs": [],
   "source": []
  },
  {
   "cell_type": "code",
   "execution_count": 50,
   "metadata": {
    "colab": {
     "base_uri": "https://localhost:8080/",
     "height": 77
    },
    "colab_type": "code",
    "executionInfo": {
     "elapsed": 837,
     "status": "ok",
     "timestamp": 1588018773742,
     "user": {
      "displayName": "Christophe Loussert",
      "photoUrl": "",
      "userId": "16796903251132996478"
     },
     "user_tz": -120
    },
    "id": "8ciZZ5BQ0JXp",
    "outputId": "1be94192-5dbe-47d4-d628-655e57465e10"
   },
   "outputs": [
    {
     "data": {
      "text/html": [
       "<div>\n",
       "<style scoped>\n",
       "    .dataframe tbody tr th:only-of-type {\n",
       "        vertical-align: middle;\n",
       "    }\n",
       "\n",
       "    .dataframe tbody tr th {\n",
       "        vertical-align: top;\n",
       "    }\n",
       "\n",
       "    .dataframe thead th {\n",
       "        text-align: right;\n",
       "    }\n",
       "</style>\n",
       "<table border=\"1\" class=\"dataframe\">\n",
       "  <thead>\n",
       "    <tr style=\"text-align: right;\">\n",
       "      <th></th>\n",
       "      <th>refListId</th>\n",
       "      <th>ciuchStart</th>\n",
       "      <th>ciuchStop</th>\n",
       "    </tr>\n",
       "  </thead>\n",
       "  <tbody>\n",
       "    <tr>\n",
       "      <td>0</td>\n",
       "      <td>0</td>\n",
       "      <td>2019-11-07 18:53:52.370</td>\n",
       "      <td>2019-11-07 18:53:54.197</td>\n",
       "    </tr>\n",
       "  </tbody>\n",
       "</table>\n",
       "</div>"
      ],
      "text/plain": [
       "   refListId              ciuchStart               ciuchStop\n",
       "0          0 2019-11-07 18:53:52.370 2019-11-07 18:53:54.197"
      ]
     },
     "execution_count": 50,
     "metadata": {},
     "output_type": "execute_result"
    }
   ],
   "source": [
    "# timing: photocells a time window for each box: start/stop (ciuchStart, ciuchStop)\n",
    "file=r'ano_supply-process.2019-11-07-CUT.csv'\n",
    "timing=pd.read_csv(os.path.join(pathfile,file),sep=',')\n",
    "timing['file']=file\n",
    "timing['date']=pd.to_datetime(timing['date'],format='%d/%m/%Y %H:%M:%S,%f')\n",
    "timing['ciuchStart']=pd.to_datetime(timing['ciuchStart'],format='%d/%m/%Y %H:%M:%S,%f')\n",
    "timing['ciuchStop']=pd.to_datetime(timing['ciuchStop'],format='%d/%m/%Y %H:%M:%S,%f')\n",
    "timing['timestampStart']=timing['timestampStart'].astype(float)\n",
    "timing['timestampStop']=timing['timestampStop'].astype(float)\n",
    "timing=timing.sort_values('date')\n",
    "timing.loc[:,'refListId']=timing.loc[:,'refListId'].apply(lambda x:int(x[8:]))\n",
    "timing=timing[['refListId', 'ciuchStart', 'ciuchStop']]\n",
    "timing[:1]"
   ]
  },
  {
   "cell_type": "code",
   "execution_count": 51,
   "metadata": {
    "colab": {
     "base_uri": "https://localhost:8080/",
     "height": 34
    },
    "colab_type": "code",
    "executionInfo": {
     "elapsed": 949,
     "status": "ok",
     "timestamp": 1588018781598,
     "user": {
      "displayName": "Christophe Loussert",
      "photoUrl": "",
      "userId": "16796903251132996478"
     },
     "user_tz": -120
    },
    "id": "v_bnj4-u0JX6",
    "outputId": "2003a15e-4cbb-4acb-abfe-d34067e36965"
   },
   "outputs": [
    {
     "data": {
      "text/plain": [
       "389"
      ]
     },
     "execution_count": 51,
     "metadata": {},
     "output_type": "execute_result"
    }
   ],
   "source": [
    "len(timing)"
   ]
  },
  {
   "cell_type": "code",
   "execution_count": 52,
   "metadata": {
    "colab": {
     "base_uri": "https://localhost:8080/",
     "height": 402
    },
    "colab_type": "code",
    "executionInfo": {
     "elapsed": 591,
     "status": "ok",
     "timestamp": 1588018783417,
     "user": {
      "displayName": "Christophe Loussert",
      "photoUrl": "",
      "userId": "16796903251132996478"
     },
     "user_tz": -120
    },
    "id": "jFXeiAUk0JX-",
    "outputId": "7c653a87-c0ce-438f-e0b5-46bb97d94697"
   },
   "outputs": [
    {
     "data": {
      "text/html": [
       "<div>\n",
       "<style scoped>\n",
       "    .dataframe tbody tr th:only-of-type {\n",
       "        vertical-align: middle;\n",
       "    }\n",
       "\n",
       "    .dataframe tbody tr th {\n",
       "        vertical-align: top;\n",
       "    }\n",
       "\n",
       "    .dataframe thead th {\n",
       "        text-align: right;\n",
       "    }\n",
       "</style>\n",
       "<table border=\"1\" class=\"dataframe\">\n",
       "  <thead>\n",
       "    <tr style=\"text-align: right;\">\n",
       "      <th></th>\n",
       "      <th>refListId</th>\n",
       "      <th>ciuchStart</th>\n",
       "      <th>ciuchStop</th>\n",
       "    </tr>\n",
       "  </thead>\n",
       "  <tbody>\n",
       "    <tr>\n",
       "      <td>0</td>\n",
       "      <td>0</td>\n",
       "      <td>2019-11-07 18:53:52.370</td>\n",
       "      <td>2019-11-07 18:53:54.197</td>\n",
       "    </tr>\n",
       "    <tr>\n",
       "      <td>1</td>\n",
       "      <td>1</td>\n",
       "      <td>2019-11-07 18:54:02.637</td>\n",
       "      <td>2019-11-07 18:54:04.463</td>\n",
       "    </tr>\n",
       "    <tr>\n",
       "      <td>2</td>\n",
       "      <td>2</td>\n",
       "      <td>2019-11-07 18:54:13.587</td>\n",
       "      <td>2019-11-07 18:54:15.447</td>\n",
       "    </tr>\n",
       "    <tr>\n",
       "      <td>3</td>\n",
       "      <td>3</td>\n",
       "      <td>2019-11-07 18:54:17.942</td>\n",
       "      <td>2019-11-07 18:54:19.591</td>\n",
       "    </tr>\n",
       "    <tr>\n",
       "      <td>4</td>\n",
       "      <td>4</td>\n",
       "      <td>2019-11-07 18:54:23.683</td>\n",
       "      <td>2019-11-07 18:54:25.528</td>\n",
       "    </tr>\n",
       "    <tr>\n",
       "      <td>5</td>\n",
       "      <td>5</td>\n",
       "      <td>2019-11-07 18:54:29.422</td>\n",
       "      <td>2019-11-07 18:54:31.278</td>\n",
       "    </tr>\n",
       "    <tr>\n",
       "      <td>6</td>\n",
       "      <td>6</td>\n",
       "      <td>2019-11-07 18:54:34.953</td>\n",
       "      <td>2019-11-07 18:54:36.685</td>\n",
       "    </tr>\n",
       "    <tr>\n",
       "      <td>7</td>\n",
       "      <td>7</td>\n",
       "      <td>2019-11-07 18:54:40.829</td>\n",
       "      <td>2019-11-07 18:54:42.611</td>\n",
       "    </tr>\n",
       "    <tr>\n",
       "      <td>8</td>\n",
       "      <td>8</td>\n",
       "      <td>2019-11-07 18:54:46.383</td>\n",
       "      <td>2019-11-07 18:54:48.158</td>\n",
       "    </tr>\n",
       "    <tr>\n",
       "      <td>9</td>\n",
       "      <td>9</td>\n",
       "      <td>2019-11-07 18:54:52.122</td>\n",
       "      <td>2019-11-07 18:54:54.051</td>\n",
       "    </tr>\n",
       "    <tr>\n",
       "      <td>10</td>\n",
       "      <td>0</td>\n",
       "      <td>2019-11-07 18:54:57.738</td>\n",
       "      <td>2019-11-07 18:54:59.584</td>\n",
       "    </tr>\n",
       "    <tr>\n",
       "      <td>11</td>\n",
       "      <td>1</td>\n",
       "      <td>2019-11-07 18:55:03.946</td>\n",
       "      <td>2019-11-07 18:55:05.694</td>\n",
       "    </tr>\n",
       "  </tbody>\n",
       "</table>\n",
       "</div>"
      ],
      "text/plain": [
       "    refListId              ciuchStart               ciuchStop\n",
       "0           0 2019-11-07 18:53:52.370 2019-11-07 18:53:54.197\n",
       "1           1 2019-11-07 18:54:02.637 2019-11-07 18:54:04.463\n",
       "2           2 2019-11-07 18:54:13.587 2019-11-07 18:54:15.447\n",
       "3           3 2019-11-07 18:54:17.942 2019-11-07 18:54:19.591\n",
       "4           4 2019-11-07 18:54:23.683 2019-11-07 18:54:25.528\n",
       "5           5 2019-11-07 18:54:29.422 2019-11-07 18:54:31.278\n",
       "6           6 2019-11-07 18:54:34.953 2019-11-07 18:54:36.685\n",
       "7           7 2019-11-07 18:54:40.829 2019-11-07 18:54:42.611\n",
       "8           8 2019-11-07 18:54:46.383 2019-11-07 18:54:48.158\n",
       "9           9 2019-11-07 18:54:52.122 2019-11-07 18:54:54.051\n",
       "10          0 2019-11-07 18:54:57.738 2019-11-07 18:54:59.584\n",
       "11          1 2019-11-07 18:55:03.946 2019-11-07 18:55:05.694"
      ]
     },
     "execution_count": 52,
     "metadata": {},
     "output_type": "execute_result"
    }
   ],
   "source": [
    "timing[:12]"
   ]
  },
  {
   "cell_type": "code",
   "execution_count": 53,
   "metadata": {
    "colab": {
     "base_uri": "https://localhost:8080/",
     "height": 195
    },
    "colab_type": "code",
    "executionInfo": {
     "elapsed": 949,
     "status": "ok",
     "timestamp": 1588018786598,
     "user": {
      "displayName": "Christophe Loussert",
      "photoUrl": "",
      "userId": "16796903251132996478"
     },
     "user_tz": -120
    },
    "id": "AtREKFSo0JXw",
    "outputId": "24cb199d-259b-413a-cb7e-9ff6f6028ad6"
   },
   "outputs": [
    {
     "data": {
      "text/html": [
       "<div>\n",
       "<style scoped>\n",
       "    .dataframe tbody tr th:only-of-type {\n",
       "        vertical-align: middle;\n",
       "    }\n",
       "\n",
       "    .dataframe tbody tr th {\n",
       "        vertical-align: top;\n",
       "    }\n",
       "\n",
       "    .dataframe thead th {\n",
       "        text-align: right;\n",
       "    }\n",
       "</style>\n",
       "<table border=\"1\" class=\"dataframe\">\n",
       "  <thead>\n",
       "    <tr style=\"text-align: right;\">\n",
       "      <th></th>\n",
       "      <th>refListId</th>\n",
       "      <th>refListId_last</th>\n",
       "      <th>ciuchStartup</th>\n",
       "      <th>ciuchStart</th>\n",
       "      <th>ciuchStop</th>\n",
       "      <th>ciuchStopdown</th>\n",
       "    </tr>\n",
       "  </thead>\n",
       "  <tbody>\n",
       "    <tr>\n",
       "      <td>0</td>\n",
       "      <td>0</td>\n",
       "      <td>0</td>\n",
       "      <td>2019-11-07 18:53:42.369999872</td>\n",
       "      <td>2019-11-07 18:53:52.370</td>\n",
       "      <td>2019-11-07 18:53:54.197</td>\n",
       "      <td>2019-11-07 18:53:58.416999936</td>\n",
       "    </tr>\n",
       "    <tr>\n",
       "      <td>1</td>\n",
       "      <td>1</td>\n",
       "      <td>0</td>\n",
       "      <td>2019-11-07 18:53:58.416999936</td>\n",
       "      <td>2019-11-07 18:54:02.637</td>\n",
       "      <td>2019-11-07 18:54:04.463</td>\n",
       "      <td>2019-11-07 18:54:09.024999936</td>\n",
       "    </tr>\n",
       "    <tr>\n",
       "      <td>2</td>\n",
       "      <td>2</td>\n",
       "      <td>1</td>\n",
       "      <td>2019-11-07 18:54:09.024999936</td>\n",
       "      <td>2019-11-07 18:54:13.587</td>\n",
       "      <td>2019-11-07 18:54:15.447</td>\n",
       "      <td>2019-11-07 18:54:16.694500096</td>\n",
       "    </tr>\n",
       "    <tr>\n",
       "      <td>3</td>\n",
       "      <td>3</td>\n",
       "      <td>2</td>\n",
       "      <td>2019-11-07 18:54:16.694500096</td>\n",
       "      <td>2019-11-07 18:54:17.942</td>\n",
       "      <td>2019-11-07 18:54:19.591</td>\n",
       "      <td>2019-11-07 18:54:21.636999936</td>\n",
       "    </tr>\n",
       "    <tr>\n",
       "      <td>4</td>\n",
       "      <td>4</td>\n",
       "      <td>3</td>\n",
       "      <td>2019-11-07 18:54:21.636999936</td>\n",
       "      <td>2019-11-07 18:54:23.683</td>\n",
       "      <td>2019-11-07 18:54:25.528</td>\n",
       "      <td>2019-11-07 18:54:27.475000064</td>\n",
       "    </tr>\n",
       "  </tbody>\n",
       "</table>\n",
       "</div>"
      ],
      "text/plain": [
       "   refListId  refListId_last                  ciuchStartup  \\\n",
       "0          0               0 2019-11-07 18:53:42.369999872   \n",
       "1          1               0 2019-11-07 18:53:58.416999936   \n",
       "2          2               1 2019-11-07 18:54:09.024999936   \n",
       "3          3               2 2019-11-07 18:54:16.694500096   \n",
       "4          4               3 2019-11-07 18:54:21.636999936   \n",
       "\n",
       "               ciuchStart               ciuchStop  \\\n",
       "0 2019-11-07 18:53:52.370 2019-11-07 18:53:54.197   \n",
       "1 2019-11-07 18:54:02.637 2019-11-07 18:54:04.463   \n",
       "2 2019-11-07 18:54:13.587 2019-11-07 18:54:15.447   \n",
       "3 2019-11-07 18:54:17.942 2019-11-07 18:54:19.591   \n",
       "4 2019-11-07 18:54:23.683 2019-11-07 18:54:25.528   \n",
       "\n",
       "                  ciuchStopdown  \n",
       "0 2019-11-07 18:53:58.416999936  \n",
       "1 2019-11-07 18:54:09.024999936  \n",
       "2 2019-11-07 18:54:16.694500096  \n",
       "3 2019-11-07 18:54:21.636999936  \n",
       "4 2019-11-07 18:54:27.475000064  "
      ]
     },
     "execution_count": 53,
     "metadata": {},
     "output_type": "execute_result"
    }
   ],
   "source": [
    "# ciuchStart_up starts upstream ciuchStart, half way in between the previous stop and the actual start\n",
    "timing[['ciuchStop_last']]=timing[['ciuchStop']].shift(1)\n",
    "timing[['refListId_last']]=timing[['refListId']].shift(1)\n",
    "timing['ciuchStartup']=timing['ciuchStart'] - (timing['ciuchStart'] - timing['ciuchStop_last'])/2\n",
    "# timing start: 10sec before timing\n",
    "timing.loc[0,'refListId_last']=timing.loc[0,'refListId']\n",
    "timing.loc[0,'ciuchStartup']=timing.loc[0,'ciuchStart']-datetime.timedelta(seconds=10)\n",
    "timing.loc[0,'ciuchStop_last']=timing.loc[0,'ciuchStartup']-datetime.timedelta(seconds=10)\n",
    "timing['refListId_last']=timing['refListId_last'].astype(int)\n",
    "# \n",
    "timing['ciuchStopdown']= timing['ciuchStartup'].shift(-1)\n",
    "timing.loc[len(timing)-1,'ciuchStopdown']=timing.loc[len(timing)-1,'ciuchStop']+datetime.timedelta(seconds=10)\n",
    "timing=timing[['refListId', 'refListId_last','ciuchStartup', 'ciuchStart','ciuchStop','ciuchStopdown']]\n",
    "timing.head()"
   ]
  },
  {
   "cell_type": "code",
   "execution_count": 54,
   "metadata": {
    "colab": {
     "base_uri": "https://localhost:8080/",
     "height": 195
    },
    "colab_type": "code",
    "executionInfo": {
     "elapsed": 1002,
     "status": "ok",
     "timestamp": 1588018792544,
     "user": {
      "displayName": "Christophe Loussert",
      "photoUrl": "",
      "userId": "16796903251132996478"
     },
     "user_tz": -120
    },
    "id": "2X_jsFDG0JYD",
    "outputId": "d926a32f-3b96-4045-b559-870feefe64ad",
    "scrolled": true
   },
   "outputs": [
    {
     "data": {
      "text/html": [
       "<div>\n",
       "<style scoped>\n",
       "    .dataframe tbody tr th:only-of-type {\n",
       "        vertical-align: middle;\n",
       "    }\n",
       "\n",
       "    .dataframe tbody tr th {\n",
       "        vertical-align: top;\n",
       "    }\n",
       "\n",
       "    .dataframe thead th {\n",
       "        text-align: right;\n",
       "    }\n",
       "</style>\n",
       "<table border=\"1\" class=\"dataframe\">\n",
       "  <thead>\n",
       "    <tr style=\"text-align: right;\">\n",
       "      <th></th>\n",
       "      <th>refListId</th>\n",
       "      <th>refListId_last</th>\n",
       "      <th>ciuchStartup</th>\n",
       "      <th>ciuchStart</th>\n",
       "      <th>ciuchStop</th>\n",
       "      <th>ciuchStopdown</th>\n",
       "    </tr>\n",
       "  </thead>\n",
       "  <tbody>\n",
       "    <tr>\n",
       "      <td>0</td>\n",
       "      <td>0</td>\n",
       "      <td>0</td>\n",
       "      <td>2019-11-07 18:53:42.369999872</td>\n",
       "      <td>2019-11-07 18:53:52.370</td>\n",
       "      <td>2019-11-07 18:53:54.197</td>\n",
       "      <td>2019-11-07 18:53:58.416999936</td>\n",
       "    </tr>\n",
       "    <tr>\n",
       "      <td>10</td>\n",
       "      <td>0</td>\n",
       "      <td>9</td>\n",
       "      <td>2019-11-07 18:54:55.894500096</td>\n",
       "      <td>2019-11-07 18:54:57.738</td>\n",
       "      <td>2019-11-07 18:54:59.584</td>\n",
       "      <td>2019-11-07 18:55:01.764999936</td>\n",
       "    </tr>\n",
       "    <tr>\n",
       "      <td>20</td>\n",
       "      <td>0</td>\n",
       "      <td>9</td>\n",
       "      <td>2019-11-07 18:55:53.460499968</td>\n",
       "      <td>2019-11-07 18:55:55.497</td>\n",
       "      <td>2019-11-07 18:55:57.377</td>\n",
       "      <td>2019-11-07 18:55:59.567500032</td>\n",
       "    </tr>\n",
       "    <tr>\n",
       "      <td>30</td>\n",
       "      <td>0</td>\n",
       "      <td>9</td>\n",
       "      <td>2019-11-07 18:56:51.316999936</td>\n",
       "      <td>2019-11-07 18:56:53.344</td>\n",
       "      <td>2019-11-07 18:56:55.215</td>\n",
       "      <td>2019-11-07 18:56:57.241499904</td>\n",
       "    </tr>\n",
       "    <tr>\n",
       "      <td>40</td>\n",
       "      <td>0</td>\n",
       "      <td>9</td>\n",
       "      <td>2019-11-07 18:58:02.390500096</td>\n",
       "      <td>2019-11-07 18:58:04.351</td>\n",
       "      <td>2019-11-07 18:58:06.212</td>\n",
       "      <td>2019-11-07 18:58:11.428000000</td>\n",
       "    </tr>\n",
       "  </tbody>\n",
       "</table>\n",
       "</div>"
      ],
      "text/plain": [
       "    refListId  refListId_last                  ciuchStartup  \\\n",
       "0           0               0 2019-11-07 18:53:42.369999872   \n",
       "10          0               9 2019-11-07 18:54:55.894500096   \n",
       "20          0               9 2019-11-07 18:55:53.460499968   \n",
       "30          0               9 2019-11-07 18:56:51.316999936   \n",
       "40          0               9 2019-11-07 18:58:02.390500096   \n",
       "\n",
       "                ciuchStart               ciuchStop  \\\n",
       "0  2019-11-07 18:53:52.370 2019-11-07 18:53:54.197   \n",
       "10 2019-11-07 18:54:57.738 2019-11-07 18:54:59.584   \n",
       "20 2019-11-07 18:55:55.497 2019-11-07 18:55:57.377   \n",
       "30 2019-11-07 18:56:53.344 2019-11-07 18:56:55.215   \n",
       "40 2019-11-07 18:58:04.351 2019-11-07 18:58:06.212   \n",
       "\n",
       "                   ciuchStopdown  \n",
       "0  2019-11-07 18:53:58.416999936  \n",
       "10 2019-11-07 18:55:01.764999936  \n",
       "20 2019-11-07 18:55:59.567500032  \n",
       "30 2019-11-07 18:56:57.241499904  \n",
       "40 2019-11-07 18:58:11.428000000  "
      ]
     },
     "execution_count": 54,
     "metadata": {},
     "output_type": "execute_result"
    }
   ],
   "source": [
    "# box 0 always starts\n",
    "timing[timing['refListId']==0].head()"
   ]
  },
  {
   "cell_type": "code",
   "execution_count": 55,
   "metadata": {
    "colab": {
     "base_uri": "https://localhost:8080/",
     "height": 195
    },
    "colab_type": "code",
    "executionInfo": {
     "elapsed": 557,
     "status": "ok",
     "timestamp": 1588018806550,
     "user": {
      "displayName": "Christophe Loussert",
      "photoUrl": "",
      "userId": "16796903251132996478"
     },
     "user_tz": -120
    },
    "id": "krWhva-Z0JYH",
    "outputId": "55c1d5bd-24e0-466e-a962-74cc11fecc0f"
   },
   "outputs": [
    {
     "data": {
      "text/html": [
       "<div>\n",
       "<style scoped>\n",
       "    .dataframe tbody tr th:only-of-type {\n",
       "        vertical-align: middle;\n",
       "    }\n",
       "\n",
       "    .dataframe tbody tr th {\n",
       "        vertical-align: top;\n",
       "    }\n",
       "\n",
       "    .dataframe thead th {\n",
       "        text-align: right;\n",
       "    }\n",
       "</style>\n",
       "<table border=\"1\" class=\"dataframe\">\n",
       "  <thead>\n",
       "    <tr style=\"text-align: right;\">\n",
       "      <th></th>\n",
       "      <th>run</th>\n",
       "      <th>refListId</th>\n",
       "      <th>refListId_last</th>\n",
       "      <th>ciuchStartup</th>\n",
       "      <th>ciuchStart</th>\n",
       "      <th>ciuchStop</th>\n",
       "      <th>ciuchStopdown</th>\n",
       "      <th>t0_run</th>\n",
       "    </tr>\n",
       "  </thead>\n",
       "  <tbody>\n",
       "    <tr>\n",
       "      <td>0</td>\n",
       "      <td>1</td>\n",
       "      <td>0</td>\n",
       "      <td>0</td>\n",
       "      <td>2019-11-07 18:53:42.369999872</td>\n",
       "      <td>2019-11-07 18:53:52.370</td>\n",
       "      <td>2019-11-07 18:53:54.197</td>\n",
       "      <td>2019-11-07 18:53:58.416999936</td>\n",
       "      <td>2019-11-07 18:53:42.369999872</td>\n",
       "    </tr>\n",
       "    <tr>\n",
       "      <td>1</td>\n",
       "      <td>1</td>\n",
       "      <td>1</td>\n",
       "      <td>0</td>\n",
       "      <td>2019-11-07 18:53:58.416999936</td>\n",
       "      <td>2019-11-07 18:54:02.637</td>\n",
       "      <td>2019-11-07 18:54:04.463</td>\n",
       "      <td>2019-11-07 18:54:09.024999936</td>\n",
       "      <td>2019-11-07 18:53:42.369999872</td>\n",
       "    </tr>\n",
       "    <tr>\n",
       "      <td>2</td>\n",
       "      <td>1</td>\n",
       "      <td>2</td>\n",
       "      <td>1</td>\n",
       "      <td>2019-11-07 18:54:09.024999936</td>\n",
       "      <td>2019-11-07 18:54:13.587</td>\n",
       "      <td>2019-11-07 18:54:15.447</td>\n",
       "      <td>2019-11-07 18:54:16.694500096</td>\n",
       "      <td>2019-11-07 18:53:42.369999872</td>\n",
       "    </tr>\n",
       "    <tr>\n",
       "      <td>3</td>\n",
       "      <td>1</td>\n",
       "      <td>3</td>\n",
       "      <td>2</td>\n",
       "      <td>2019-11-07 18:54:16.694500096</td>\n",
       "      <td>2019-11-07 18:54:17.942</td>\n",
       "      <td>2019-11-07 18:54:19.591</td>\n",
       "      <td>2019-11-07 18:54:21.636999936</td>\n",
       "      <td>2019-11-07 18:53:42.369999872</td>\n",
       "    </tr>\n",
       "    <tr>\n",
       "      <td>4</td>\n",
       "      <td>1</td>\n",
       "      <td>4</td>\n",
       "      <td>3</td>\n",
       "      <td>2019-11-07 18:54:21.636999936</td>\n",
       "      <td>2019-11-07 18:54:23.683</td>\n",
       "      <td>2019-11-07 18:54:25.528</td>\n",
       "      <td>2019-11-07 18:54:27.475000064</td>\n",
       "      <td>2019-11-07 18:53:42.369999872</td>\n",
       "    </tr>\n",
       "  </tbody>\n",
       "</table>\n",
       "</div>"
      ],
      "text/plain": [
       "   run  refListId  refListId_last                  ciuchStartup  \\\n",
       "0    1          0               0 2019-11-07 18:53:42.369999872   \n",
       "1    1          1               0 2019-11-07 18:53:58.416999936   \n",
       "2    1          2               1 2019-11-07 18:54:09.024999936   \n",
       "3    1          3               2 2019-11-07 18:54:16.694500096   \n",
       "4    1          4               3 2019-11-07 18:54:21.636999936   \n",
       "\n",
       "               ciuchStart               ciuchStop  \\\n",
       "0 2019-11-07 18:53:52.370 2019-11-07 18:53:54.197   \n",
       "1 2019-11-07 18:54:02.637 2019-11-07 18:54:04.463   \n",
       "2 2019-11-07 18:54:13.587 2019-11-07 18:54:15.447   \n",
       "3 2019-11-07 18:54:17.942 2019-11-07 18:54:19.591   \n",
       "4 2019-11-07 18:54:23.683 2019-11-07 18:54:25.528   \n",
       "\n",
       "                  ciuchStopdown                        t0_run  \n",
       "0 2019-11-07 18:53:58.416999936 2019-11-07 18:53:42.369999872  \n",
       "1 2019-11-07 18:54:09.024999936 2019-11-07 18:53:42.369999872  \n",
       "2 2019-11-07 18:54:16.694500096 2019-11-07 18:53:42.369999872  \n",
       "3 2019-11-07 18:54:21.636999936 2019-11-07 18:53:42.369999872  \n",
       "4 2019-11-07 18:54:27.475000064 2019-11-07 18:53:42.369999872  "
      ]
     },
     "execution_count": 55,
     "metadata": {},
     "output_type": "execute_result"
    }
   ],
   "source": [
    "# t0_run = a new run starts when box 0 shows up\n",
    "t0_run=timing[timing['refListId']==0] [['ciuchStartup']]\n",
    "t0_run=t0_run.rename(columns={'ciuchStartup':'t0_run'})\n",
    "t0_run=t0_run.groupby('t0_run').size().cumsum().rename('run').reset_index(drop=False)\n",
    "t0_run=t0_run.sort_values('t0_run')\n",
    "# \n",
    "# each row in timing is merged with a last row in t0_run where t0_run (ciuchstart) <= timing (ciuchstart)\n",
    "timing=pd.merge_asof(timing,t0_run,left_on='ciuchStartup',right_on='t0_run', direction='backward')\n",
    "timing=timing.sort_values('ciuchStop')\n",
    "timing=timing[['run', 'refListId', 'refListId_last', 'ciuchStartup','ciuchStart','ciuchStop','ciuchStopdown','t0_run']]\n",
    "timing.head()"
   ]
  },
  {
   "cell_type": "code",
   "execution_count": 56,
   "metadata": {
    "colab": {
     "base_uri": "https://localhost:8080/",
     "height": 402
    },
    "colab_type": "code",
    "executionInfo": {
     "elapsed": 988,
     "status": "ok",
     "timestamp": 1588018815024,
     "user": {
      "displayName": "Christophe Loussert",
      "photoUrl": "",
      "userId": "16796903251132996478"
     },
     "user_tz": -120
    },
    "id": "JPC-PH0t0JYP",
    "outputId": "21ebc900-e0ad-4de8-864b-92d2c89400c1"
   },
   "outputs": [
    {
     "data": {
      "text/html": [
       "<div>\n",
       "<style scoped>\n",
       "    .dataframe tbody tr th:only-of-type {\n",
       "        vertical-align: middle;\n",
       "    }\n",
       "\n",
       "    .dataframe tbody tr th {\n",
       "        vertical-align: top;\n",
       "    }\n",
       "\n",
       "    .dataframe thead th {\n",
       "        text-align: right;\n",
       "    }\n",
       "</style>\n",
       "<table border=\"1\" class=\"dataframe\">\n",
       "  <thead>\n",
       "    <tr style=\"text-align: right;\">\n",
       "      <th></th>\n",
       "      <th>run</th>\n",
       "      <th>refListId</th>\n",
       "      <th>refListId_last</th>\n",
       "      <th>ciuchStartup</th>\n",
       "      <th>ciuchStart</th>\n",
       "      <th>ciuchStop</th>\n",
       "      <th>ciuchStopdown</th>\n",
       "      <th>t0_run</th>\n",
       "    </tr>\n",
       "  </thead>\n",
       "  <tbody>\n",
       "    <tr>\n",
       "      <td>0</td>\n",
       "      <td>1</td>\n",
       "      <td>0</td>\n",
       "      <td>0</td>\n",
       "      <td>2019-11-07 18:53:42.369999872</td>\n",
       "      <td>2019-11-07 18:53:52.370</td>\n",
       "      <td>2019-11-07 18:53:54.197</td>\n",
       "      <td>2019-11-07 18:53:58.416999936</td>\n",
       "      <td>2019-11-07 18:53:42.369999872</td>\n",
       "    </tr>\n",
       "    <tr>\n",
       "      <td>1</td>\n",
       "      <td>1</td>\n",
       "      <td>1</td>\n",
       "      <td>0</td>\n",
       "      <td>2019-11-07 18:53:58.416999936</td>\n",
       "      <td>2019-11-07 18:54:02.637</td>\n",
       "      <td>2019-11-07 18:54:04.463</td>\n",
       "      <td>2019-11-07 18:54:09.024999936</td>\n",
       "      <td>2019-11-07 18:53:42.369999872</td>\n",
       "    </tr>\n",
       "    <tr>\n",
       "      <td>2</td>\n",
       "      <td>1</td>\n",
       "      <td>2</td>\n",
       "      <td>1</td>\n",
       "      <td>2019-11-07 18:54:09.024999936</td>\n",
       "      <td>2019-11-07 18:54:13.587</td>\n",
       "      <td>2019-11-07 18:54:15.447</td>\n",
       "      <td>2019-11-07 18:54:16.694500096</td>\n",
       "      <td>2019-11-07 18:53:42.369999872</td>\n",
       "    </tr>\n",
       "    <tr>\n",
       "      <td>3</td>\n",
       "      <td>1</td>\n",
       "      <td>3</td>\n",
       "      <td>2</td>\n",
       "      <td>2019-11-07 18:54:16.694500096</td>\n",
       "      <td>2019-11-07 18:54:17.942</td>\n",
       "      <td>2019-11-07 18:54:19.591</td>\n",
       "      <td>2019-11-07 18:54:21.636999936</td>\n",
       "      <td>2019-11-07 18:53:42.369999872</td>\n",
       "    </tr>\n",
       "    <tr>\n",
       "      <td>4</td>\n",
       "      <td>1</td>\n",
       "      <td>4</td>\n",
       "      <td>3</td>\n",
       "      <td>2019-11-07 18:54:21.636999936</td>\n",
       "      <td>2019-11-07 18:54:23.683</td>\n",
       "      <td>2019-11-07 18:54:25.528</td>\n",
       "      <td>2019-11-07 18:54:27.475000064</td>\n",
       "      <td>2019-11-07 18:53:42.369999872</td>\n",
       "    </tr>\n",
       "    <tr>\n",
       "      <td>5</td>\n",
       "      <td>1</td>\n",
       "      <td>5</td>\n",
       "      <td>4</td>\n",
       "      <td>2019-11-07 18:54:27.475000064</td>\n",
       "      <td>2019-11-07 18:54:29.422</td>\n",
       "      <td>2019-11-07 18:54:31.278</td>\n",
       "      <td>2019-11-07 18:54:33.115500032</td>\n",
       "      <td>2019-11-07 18:53:42.369999872</td>\n",
       "    </tr>\n",
       "    <tr>\n",
       "      <td>6</td>\n",
       "      <td>1</td>\n",
       "      <td>6</td>\n",
       "      <td>5</td>\n",
       "      <td>2019-11-07 18:54:33.115500032</td>\n",
       "      <td>2019-11-07 18:54:34.953</td>\n",
       "      <td>2019-11-07 18:54:36.685</td>\n",
       "      <td>2019-11-07 18:54:38.756999936</td>\n",
       "      <td>2019-11-07 18:53:42.369999872</td>\n",
       "    </tr>\n",
       "    <tr>\n",
       "      <td>7</td>\n",
       "      <td>1</td>\n",
       "      <td>7</td>\n",
       "      <td>6</td>\n",
       "      <td>2019-11-07 18:54:38.756999936</td>\n",
       "      <td>2019-11-07 18:54:40.829</td>\n",
       "      <td>2019-11-07 18:54:42.611</td>\n",
       "      <td>2019-11-07 18:54:44.496999936</td>\n",
       "      <td>2019-11-07 18:53:42.369999872</td>\n",
       "    </tr>\n",
       "    <tr>\n",
       "      <td>8</td>\n",
       "      <td>1</td>\n",
       "      <td>8</td>\n",
       "      <td>7</td>\n",
       "      <td>2019-11-07 18:54:44.496999936</td>\n",
       "      <td>2019-11-07 18:54:46.383</td>\n",
       "      <td>2019-11-07 18:54:48.158</td>\n",
       "      <td>2019-11-07 18:54:50.140000000</td>\n",
       "      <td>2019-11-07 18:53:42.369999872</td>\n",
       "    </tr>\n",
       "    <tr>\n",
       "      <td>9</td>\n",
       "      <td>1</td>\n",
       "      <td>9</td>\n",
       "      <td>8</td>\n",
       "      <td>2019-11-07 18:54:50.140000000</td>\n",
       "      <td>2019-11-07 18:54:52.122</td>\n",
       "      <td>2019-11-07 18:54:54.051</td>\n",
       "      <td>2019-11-07 18:54:55.894500096</td>\n",
       "      <td>2019-11-07 18:53:42.369999872</td>\n",
       "    </tr>\n",
       "    <tr>\n",
       "      <td>10</td>\n",
       "      <td>2</td>\n",
       "      <td>0</td>\n",
       "      <td>9</td>\n",
       "      <td>2019-11-07 18:54:55.894500096</td>\n",
       "      <td>2019-11-07 18:54:57.738</td>\n",
       "      <td>2019-11-07 18:54:59.584</td>\n",
       "      <td>2019-11-07 18:55:01.764999936</td>\n",
       "      <td>2019-11-07 18:54:55.894500096</td>\n",
       "    </tr>\n",
       "    <tr>\n",
       "      <td>11</td>\n",
       "      <td>2</td>\n",
       "      <td>1</td>\n",
       "      <td>0</td>\n",
       "      <td>2019-11-07 18:55:01.764999936</td>\n",
       "      <td>2019-11-07 18:55:03.946</td>\n",
       "      <td>2019-11-07 18:55:05.694</td>\n",
       "      <td>2019-11-07 18:55:07.694000128</td>\n",
       "      <td>2019-11-07 18:54:55.894500096</td>\n",
       "    </tr>\n",
       "  </tbody>\n",
       "</table>\n",
       "</div>"
      ],
      "text/plain": [
       "    run  refListId  refListId_last                  ciuchStartup  \\\n",
       "0     1          0               0 2019-11-07 18:53:42.369999872   \n",
       "1     1          1               0 2019-11-07 18:53:58.416999936   \n",
       "2     1          2               1 2019-11-07 18:54:09.024999936   \n",
       "3     1          3               2 2019-11-07 18:54:16.694500096   \n",
       "4     1          4               3 2019-11-07 18:54:21.636999936   \n",
       "5     1          5               4 2019-11-07 18:54:27.475000064   \n",
       "6     1          6               5 2019-11-07 18:54:33.115500032   \n",
       "7     1          7               6 2019-11-07 18:54:38.756999936   \n",
       "8     1          8               7 2019-11-07 18:54:44.496999936   \n",
       "9     1          9               8 2019-11-07 18:54:50.140000000   \n",
       "10    2          0               9 2019-11-07 18:54:55.894500096   \n",
       "11    2          1               0 2019-11-07 18:55:01.764999936   \n",
       "\n",
       "                ciuchStart               ciuchStop  \\\n",
       "0  2019-11-07 18:53:52.370 2019-11-07 18:53:54.197   \n",
       "1  2019-11-07 18:54:02.637 2019-11-07 18:54:04.463   \n",
       "2  2019-11-07 18:54:13.587 2019-11-07 18:54:15.447   \n",
       "3  2019-11-07 18:54:17.942 2019-11-07 18:54:19.591   \n",
       "4  2019-11-07 18:54:23.683 2019-11-07 18:54:25.528   \n",
       "5  2019-11-07 18:54:29.422 2019-11-07 18:54:31.278   \n",
       "6  2019-11-07 18:54:34.953 2019-11-07 18:54:36.685   \n",
       "7  2019-11-07 18:54:40.829 2019-11-07 18:54:42.611   \n",
       "8  2019-11-07 18:54:46.383 2019-11-07 18:54:48.158   \n",
       "9  2019-11-07 18:54:52.122 2019-11-07 18:54:54.051   \n",
       "10 2019-11-07 18:54:57.738 2019-11-07 18:54:59.584   \n",
       "11 2019-11-07 18:55:03.946 2019-11-07 18:55:05.694   \n",
       "\n",
       "                   ciuchStopdown                        t0_run  \n",
       "0  2019-11-07 18:53:58.416999936 2019-11-07 18:53:42.369999872  \n",
       "1  2019-11-07 18:54:09.024999936 2019-11-07 18:53:42.369999872  \n",
       "2  2019-11-07 18:54:16.694500096 2019-11-07 18:53:42.369999872  \n",
       "3  2019-11-07 18:54:21.636999936 2019-11-07 18:53:42.369999872  \n",
       "4  2019-11-07 18:54:27.475000064 2019-11-07 18:53:42.369999872  \n",
       "5  2019-11-07 18:54:33.115500032 2019-11-07 18:53:42.369999872  \n",
       "6  2019-11-07 18:54:38.756999936 2019-11-07 18:53:42.369999872  \n",
       "7  2019-11-07 18:54:44.496999936 2019-11-07 18:53:42.369999872  \n",
       "8  2019-11-07 18:54:50.140000000 2019-11-07 18:53:42.369999872  \n",
       "9  2019-11-07 18:54:55.894500096 2019-11-07 18:53:42.369999872  \n",
       "10 2019-11-07 18:55:01.764999936 2019-11-07 18:54:55.894500096  \n",
       "11 2019-11-07 18:55:07.694000128 2019-11-07 18:54:55.894500096  "
      ]
     },
     "execution_count": 56,
     "metadata": {},
     "output_type": "execute_result"
    }
   ],
   "source": [
    "timing[:12]"
   ]
  },
  {
   "cell_type": "code",
   "execution_count": 57,
   "metadata": {
    "colab": {
     "base_uri": "https://localhost:8080/",
     "height": 392
    },
    "colab_type": "code",
    "executionInfo": {
     "elapsed": 1105,
     "status": "ok",
     "timestamp": 1588018821960,
     "user": {
      "displayName": "Christophe Loussert",
      "photoUrl": "",
      "userId": "16796903251132996478"
     },
     "user_tz": -120
    },
    "id": "SmkGA-WM0JYV",
    "outputId": "249a4014-492e-428f-cfc2-1a88aa91780f"
   },
   "outputs": [
    {
     "data": {
      "image/png": "[encoded data removed]",
      "text/plain": [
       "<Figure size 864x432 with 1 Axes>"
      ]
     },
     "metadata": {
      "needs_background": "light"
     },
     "output_type": "display_data"
    }
   ],
   "source": [
    "plt.figure(figsize=(12,6))\n",
    "up=(timing['ciuchStart']-timing['ciuchStartup']).apply(lambda x:x.total_seconds())\n",
    "mid=(timing['ciuchStop']-timing['ciuchStart']).apply(lambda x:x.total_seconds())\n",
    "down=(timing['ciuchStopdown']-timing['ciuchStop']).apply(lambda x:x.total_seconds())\n",
    "plt.boxplot([up,mid,down],labels=['ciuchStartup > ciuchStart','ciuchStart > ciuchStop','ciuchStop > ciuchStopdown'])\n",
    "plt.grid()\n",
    "plt.title('durations: Startup>Start, Start>Stop, Stop>Stopdown',size=16)\n",
    "plt.show()"
   ]
  },
  {
   "cell_type": "code",
   "execution_count": 58,
   "metadata": {
    "colab": {
     "base_uri": "https://localhost:8080/",
     "height": 195
    },
    "colab_type": "code",
    "executionInfo": {
     "elapsed": 3388,
     "status": "ok",
     "timestamp": 1588018830442,
     "user": {
      "displayName": "Christophe Loussert",
      "photoUrl": "",
      "userId": "16796903251132996478"
     },
     "user_tz": -120
    },
    "id": "hBRngm050JYb",
    "outputId": "341ba707-9434-448e-8263-fa6023b3b0f3"
   },
   "outputs": [
    {
     "data": {
      "text/html": [
       "<div>\n",
       "<style scoped>\n",
       "    .dataframe tbody tr th:only-of-type {\n",
       "        vertical-align: middle;\n",
       "    }\n",
       "\n",
       "    .dataframe tbody tr th {\n",
       "        vertical-align: top;\n",
       "    }\n",
       "\n",
       "    .dataframe thead th {\n",
       "        text-align: right;\n",
       "    }\n",
       "</style>\n",
       "<table border=\"1\" class=\"dataframe\">\n",
       "  <thead>\n",
       "    <tr style=\"text-align: right;\">\n",
       "      <th></th>\n",
       "      <th>run</th>\n",
       "      <th>refListId</th>\n",
       "      <th>refListId_last</th>\n",
       "      <th>slice_id</th>\n",
       "      <th>slice</th>\n",
       "      <th>ciuchStartup</th>\n",
       "      <th>ciuchStart</th>\n",
       "      <th>ciuchStop</th>\n",
       "      <th>ciuchStopdown</th>\n",
       "      <th>t0_run</th>\n",
       "    </tr>\n",
       "  </thead>\n",
       "  <tbody>\n",
       "    <tr>\n",
       "      <td>0</td>\n",
       "      <td>1</td>\n",
       "      <td>0</td>\n",
       "      <td>0</td>\n",
       "      <td>up_0</td>\n",
       "      <td>2019-11-07 18:53:42.369999872</td>\n",
       "      <td>2019-11-07 18:53:42.369999872</td>\n",
       "      <td>2019-11-07 18:53:52.370</td>\n",
       "      <td>2019-11-07 18:53:54.197</td>\n",
       "      <td>2019-11-07 18:53:58.416999936</td>\n",
       "      <td>2019-11-07 18:53:42.369999872</td>\n",
       "    </tr>\n",
       "    <tr>\n",
       "      <td>1</td>\n",
       "      <td>1</td>\n",
       "      <td>0</td>\n",
       "      <td>0</td>\n",
       "      <td>up_1</td>\n",
       "      <td>2019-11-07 18:53:45.703333248</td>\n",
       "      <td>2019-11-07 18:53:42.369999872</td>\n",
       "      <td>2019-11-07 18:53:52.370</td>\n",
       "      <td>2019-11-07 18:53:54.197</td>\n",
       "      <td>2019-11-07 18:53:58.416999936</td>\n",
       "      <td>2019-11-07 18:53:42.369999872</td>\n",
       "    </tr>\n",
       "    <tr>\n",
       "      <td>2</td>\n",
       "      <td>1</td>\n",
       "      <td>0</td>\n",
       "      <td>0</td>\n",
       "      <td>up_2</td>\n",
       "      <td>2019-11-07 18:53:49.036666624</td>\n",
       "      <td>2019-11-07 18:53:42.369999872</td>\n",
       "      <td>2019-11-07 18:53:52.370</td>\n",
       "      <td>2019-11-07 18:53:54.197</td>\n",
       "      <td>2019-11-07 18:53:58.416999936</td>\n",
       "      <td>2019-11-07 18:53:42.369999872</td>\n",
       "    </tr>\n",
       "    <tr>\n",
       "      <td>3</td>\n",
       "      <td>1</td>\n",
       "      <td>0</td>\n",
       "      <td>0</td>\n",
       "      <td>mid_0</td>\n",
       "      <td>2019-11-07 18:53:52.370000000</td>\n",
       "      <td>2019-11-07 18:53:42.369999872</td>\n",
       "      <td>2019-11-07 18:53:52.370</td>\n",
       "      <td>2019-11-07 18:53:54.197</td>\n",
       "      <td>2019-11-07 18:53:58.416999936</td>\n",
       "      <td>2019-11-07 18:53:42.369999872</td>\n",
       "    </tr>\n",
       "    <tr>\n",
       "      <td>4</td>\n",
       "      <td>1</td>\n",
       "      <td>0</td>\n",
       "      <td>0</td>\n",
       "      <td>mid_1</td>\n",
       "      <td>2019-11-07 18:53:52.979000000</td>\n",
       "      <td>2019-11-07 18:53:42.369999872</td>\n",
       "      <td>2019-11-07 18:53:52.370</td>\n",
       "      <td>2019-11-07 18:53:54.197</td>\n",
       "      <td>2019-11-07 18:53:58.416999936</td>\n",
       "      <td>2019-11-07 18:53:42.369999872</td>\n",
       "    </tr>\n",
       "  </tbody>\n",
       "</table>\n",
       "</div>"
      ],
      "text/plain": [
       "   run  refListId  refListId_last slice_id                         slice  \\\n",
       "0    1          0               0     up_0 2019-11-07 18:53:42.369999872   \n",
       "1    1          0               0     up_1 2019-11-07 18:53:45.703333248   \n",
       "2    1          0               0     up_2 2019-11-07 18:53:49.036666624   \n",
       "3    1          0               0    mid_0 2019-11-07 18:53:52.370000000   \n",
       "4    1          0               0    mid_1 2019-11-07 18:53:52.979000000   \n",
       "\n",
       "                   ciuchStartup              ciuchStart  \\\n",
       "0 2019-11-07 18:53:42.369999872 2019-11-07 18:53:52.370   \n",
       "1 2019-11-07 18:53:42.369999872 2019-11-07 18:53:52.370   \n",
       "2 2019-11-07 18:53:42.369999872 2019-11-07 18:53:52.370   \n",
       "3 2019-11-07 18:53:42.369999872 2019-11-07 18:53:52.370   \n",
       "4 2019-11-07 18:53:42.369999872 2019-11-07 18:53:52.370   \n",
       "\n",
       "                ciuchStop                 ciuchStopdown  \\\n",
       "0 2019-11-07 18:53:54.197 2019-11-07 18:53:58.416999936   \n",
       "1 2019-11-07 18:53:54.197 2019-11-07 18:53:58.416999936   \n",
       "2 2019-11-07 18:53:54.197 2019-11-07 18:53:58.416999936   \n",
       "3 2019-11-07 18:53:54.197 2019-11-07 18:53:58.416999936   \n",
       "4 2019-11-07 18:53:54.197 2019-11-07 18:53:58.416999936   \n",
       "\n",
       "                         t0_run  \n",
       "0 2019-11-07 18:53:42.369999872  \n",
       "1 2019-11-07 18:53:42.369999872  \n",
       "2 2019-11-07 18:53:42.369999872  \n",
       "3 2019-11-07 18:53:42.369999872  \n",
       "4 2019-11-07 18:53:42.369999872  "
      ]
     },
     "execution_count": 58,
     "metadata": {},
     "output_type": "execute_result"
    }
   ],
   "source": [
    "#  full window (ciuchStartup > ciuchStopdown) is sliced in smaller slices\n",
    "# ciuchStartup > ciuchStart: 11 slices named up_0, up_1, ..., up_10\n",
    "# ciuchStart > ciuchStop: 11 slices named mid_0, mid_1, ... mid_10\n",
    "# ciuchStop > ciuchStopdown: 11 slices names down_0, down_1, ... down_10\n",
    "slices=pd.DataFrame()\n",
    "for i, row in timing .iterrows():\n",
    "    ciuchStartup=row['ciuchStartup']\n",
    "    ciuchStart=row['ciuchStart']\n",
    "    ciuchStop=row['ciuchStop']\n",
    "    ciuchStopdown=row['ciuchStopdown']\n",
    "    steps=4\n",
    "#     \n",
    "    up=pd.DataFrame(index=pd.date_range(start=ciuchStartup, end=ciuchStart,periods=steps,closed='left'))\\\n",
    "        .reset_index(drop=False).rename(columns={'index':'slice'})\n",
    "    up.index=['up_'+str(x) for x in range(steps-1)]\n",
    "    slices=slices.append(up)\n",
    "#     \n",
    "    mid=pd.DataFrame(index=pd.date_range(start=ciuchStart, end=ciuchStop,periods=steps,closed='left'))\\\n",
    "        .reset_index(drop=False).rename(columns={'index':'slice'})\n",
    "    mid.index=['mid_'+str(x) for x in range(steps-1)]\n",
    "    slices=slices.append(mid)\n",
    "#     \n",
    "    down=pd.DataFrame(index=pd.date_range(start=ciuchStop, end=ciuchStopdown,periods=steps,closed='left'))\\\n",
    "        .reset_index(drop=False).rename(columns={'index':'slice'})\n",
    "    down.index=['down_'+str(x) for x in range(steps-1)]\n",
    "    slices=slices.append(down)\n",
    "#     slices=slices.append(up)\n",
    "slices=slices.reset_index(drop=False).rename(columns={'index':'slice_id'})\n",
    "# \n",
    "timing_slices=pd.merge_asof(slices,timing,left_on='slice',right_on='ciuchStartup',direction='backward')\n",
    "timing_slices=timing_slices[['run', 'refListId', 'refListId_last','slice_id','slice',  \\\n",
    "                             'ciuchStartup', 'ciuchStart', 'ciuchStop', 'ciuchStopdown','t0_run']]\n",
    "timing_slices.head()"
   ]
  },
  {
   "cell_type": "code",
   "execution_count": 59,
   "metadata": {
    "colab": {
     "base_uri": "https://localhost:8080/",
     "height": 34
    },
    "colab_type": "code",
    "executionInfo": {
     "elapsed": 569,
     "status": "ok",
     "timestamp": 1588018836457,
     "user": {
      "displayName": "Christophe Loussert",
      "photoUrl": "",
      "userId": "16796903251132996478"
     },
     "user_tz": -120
    },
    "id": "KPbdlNfS0JYg",
    "outputId": "5cc74c15-b135-4a6d-f0c7-9dbc7093b163"
   },
   "outputs": [
    {
     "data": {
      "text/plain": [
       "3501"
      ]
     },
     "execution_count": 59,
     "metadata": {},
     "output_type": "execute_result"
    }
   ],
   "source": [
    "len(timing_slices)"
   ]
  },
  {
   "cell_type": "code",
   "execution_count": 60,
   "metadata": {
    "colab": {},
    "colab_type": "code",
    "id": "-Cr7z4100JYq"
   },
   "outputs": [],
   "source": [
    "# merge between df and timing\n",
    "# merge_asof needs sorted df > df_ref\n",
    "df=df[ (df['LogTime']>=timing['ciuchStartup'].min()) & (df['LogTime']<=timing['ciuchStopdown'].max())  ]\n",
    "df=df.sort_values('LogTime')\n",
    "# \n",
    "# each row in df_ref is merged with the last row in timing where timing (ciuchstart_up) < df_ref (logtime)\n",
    "# \n",
    "# df_timing=pd.merge_asof(df_ref,timing,left_on=['LogTime'],right_on=['ciuchStartup'],direction='backward')\n",
    "# df_timing=df_timing.dropna()\n",
    "# df_timing=df_timing.sort_values('LogTime').reset_index(drop=True)\n",
    "# df_timing=df_timing[['run', 'Epc','refListId', 'refListId_last', 'ciuchStartup',\\\n",
    "#                      'LogTime', 'ciuchStop', 'ciuchStopdown','Rssi', 'loc', 'refListId_actual']]\n",
    "# \n",
    "# each row in df_ref is merged with the last row in timing_slices where timing (slice) < df_ref (logtime)\n",
    "# \n",
    "df_timing_slices=pd.merge_asof(df,timing_slices,left_on=['LogTime'],right_on=['slice'],direction='backward')\n",
    "df_timing_slices=df_timing_slices.dropna()\n",
    "df_timing_slices=df_timing_slices.sort_values('slice').reset_index(drop=True)\n",
    "df_timing_slices=df_timing_slices[['run', 'Epc','refListId', 'refListId_last', 'ciuchStartup','slice_id','slice','LogTime', \\\n",
    "                      'ciuchStart','ciuchStop', 'ciuchStopdown', 'Rssi', 'loc','t0_run']]\n"
   ]
  },
  {
   "cell_type": "code",
   "execution_count": 61,
   "metadata": {},
   "outputs": [],
   "source": [
    "# "
   ]
  },
  {
   "cell_type": "code",
   "execution_count": 62,
   "metadata": {
    "colab": {},
    "colab_type": "code",
    "id": "5IQYbPTn0JYx"
   },
   "outputs": [],
   "source": [
    "# df_timing_slices=pd.merge(df_timing_slices, reflist, on='Epc',how='left')\n",
    "# df_timing_slices = df_timing_slices [ ~((df_timing_slices['refListId']==0) & (df_timing_slices['refListId_actual']==9)) ]\n",
    "# # \n",
    "# df_timing_slices = df_timing_slices [ ~((df_timing_slices['refListId']==9) & (df_timing_slices['refListId_actual']==0)) ]\n",
    "# # # \n",
    "# # df_timing_slices = df_timing_slices [ ~((df_timing_slices['refListId']==0) | (df_timing_slices['refListId_actual']==0)) ]\n",
    "\n",
    "# df_timing_slices=df_timing_slices.drop(['refListId_actual','Q refListId_actual'],axis=1)"
   ]
  },
  {
   "cell_type": "code",
   "execution_count": null,
   "metadata": {},
   "outputs": [],
   "source": []
  },
  {
   "cell_type": "code",
   "execution_count": 63,
   "metadata": {
    "colab": {
     "base_uri": "https://localhost:8080/",
     "height": 166
    },
    "colab_type": "code",
    "executionInfo": {
     "elapsed": 764,
     "status": "ok",
     "timestamp": 1588018861284,
     "user": {
      "displayName": "Christophe Loussert",
      "photoUrl": "",
      "userId": "16796903251132996478"
     },
     "user_tz": -120
    },
    "id": "S0km1WAe0JY2",
    "outputId": "aa783a99-a7cf-4ab6-b442-aad6b99ad767"
   },
   "outputs": [
    {
     "data": {
      "text/html": [
       "<div>\n",
       "<style scoped>\n",
       "    .dataframe tbody tr th:only-of-type {\n",
       "        vertical-align: middle;\n",
       "    }\n",
       "\n",
       "    .dataframe tbody tr th {\n",
       "        vertical-align: top;\n",
       "    }\n",
       "\n",
       "    .dataframe thead th {\n",
       "        text-align: right;\n",
       "    }\n",
       "</style>\n",
       "<table border=\"1\" class=\"dataframe\">\n",
       "  <thead>\n",
       "    <tr style=\"text-align: right;\">\n",
       "      <th></th>\n",
       "      <th>run</th>\n",
       "      <th>Q refListId</th>\n",
       "    </tr>\n",
       "  </thead>\n",
       "  <tbody>\n",
       "    <tr>\n",
       "      <td>15</td>\n",
       "      <td>16</td>\n",
       "      <td>9</td>\n",
       "    </tr>\n",
       "    <tr>\n",
       "      <td>22</td>\n",
       "      <td>23</td>\n",
       "      <td>9</td>\n",
       "    </tr>\n",
       "    <tr>\n",
       "      <td>31</td>\n",
       "      <td>32</td>\n",
       "      <td>9</td>\n",
       "    </tr>\n",
       "    <tr>\n",
       "      <td>39</td>\n",
       "      <td>40</td>\n",
       "      <td>2</td>\n",
       "    </tr>\n",
       "  </tbody>\n",
       "</table>\n",
       "</div>"
      ],
      "text/plain": [
       "    run  Q refListId\n",
       "15   16            9\n",
       "22   23            9\n",
       "31   32            9\n",
       "39   40            2"
      ]
     },
     "execution_count": 63,
     "metadata": {},
     "output_type": "execute_result"
    }
   ],
   "source": [
    "runs_out=df_timing_slices .groupby('run')['refListId'].nunique().rename('Q refListId').reset_index(drop=False)\n",
    "runs_out[runs_out['Q refListId']!=10]"
   ]
  },
  {
   "cell_type": "code",
   "execution_count": 64,
   "metadata": {},
   "outputs": [
    {
     "data": {
      "text/html": [
       "<div>\n",
       "<style scoped>\n",
       "    .dataframe tbody tr th:only-of-type {\n",
       "        vertical-align: middle;\n",
       "    }\n",
       "\n",
       "    .dataframe tbody tr th {\n",
       "        vertical-align: top;\n",
       "    }\n",
       "\n",
       "    .dataframe thead th {\n",
       "        text-align: right;\n",
       "    }\n",
       "</style>\n",
       "<table border=\"1\" class=\"dataframe\">\n",
       "  <thead>\n",
       "    <tr style=\"text-align: right;\">\n",
       "      <th></th>\n",
       "      <th>run</th>\n",
       "      <th>refListId</th>\n",
       "      <th>refListId_last</th>\n",
       "      <th>ciuchStop</th>\n",
       "    </tr>\n",
       "  </thead>\n",
       "  <tbody>\n",
       "    <tr>\n",
       "      <td>0</td>\n",
       "      <td>1</td>\n",
       "      <td>0</td>\n",
       "      <td>0</td>\n",
       "      <td>2019-11-07 18:53:54.197</td>\n",
       "    </tr>\n",
       "  </tbody>\n",
       "</table>\n",
       "</div>"
      ],
      "text/plain": [
       "   run  refListId  refListId_last               ciuchStop\n",
       "0    1          0               0 2019-11-07 18:53:54.197"
      ]
     },
     "execution_count": 64,
     "metadata": {},
     "output_type": "execute_result"
    }
   ],
   "source": [
    "current_last_windows=timing_slices.drop_duplicates(['run','refListId','refListId_last'])\n",
    "current_last_windows=current_last_windows[['run','refListId','refListId_last','ciuchStop']].reset_index(drop=True)\n",
    "current_last_windows[:1]"
   ]
  },
  {
   "cell_type": "code",
   "execution_count": 65,
   "metadata": {
    "colab": {},
    "colab_type": "code",
    "id": "55atRD2V0JY5"
   },
   "outputs": [],
   "source": [
    "# runs 16 23 32 40 have missing boxes: discarded\n",
    "# also run 1 is the start, no previous box: discarded\n",
    "# run 18: box 0 run at the end\n",
    "# \n",
    "timing=timing[~timing['run'].isin([1,18,16,23,32,40])]\n",
    "timing_slices=timing_slices[~timing_slices['run'].isin([1,18,16,23,32,40])]\n",
    "df_timing_slices=df_timing_slices[~df_timing_slices['run'].isin([1,18,16,23,32,40])]\n",
    "\n",
    "df_timing_slices=df_timing_slices.sort_values(['LogTime','Epc'])\n",
    "# "
   ]
  },
  {
   "cell_type": "code",
   "execution_count": 66,
   "metadata": {
    "colab": {
     "base_uri": "https://localhost:8080/",
     "height": 34
    },
    "colab_type": "code",
    "executionInfo": {
     "elapsed": 604,
     "status": "ok",
     "timestamp": 1588018865521,
     "user": {
      "displayName": "Christophe Loussert",
      "photoUrl": "",
      "userId": "16796903251132996478"
     },
     "user_tz": -120
    },
    "id": "G6oeU9Hc0JY8",
    "outputId": "4dd5024f-56fe-4f40-f9e8-407065501e56"
   },
   "outputs": [
    {
     "data": {
      "text/plain": [
       "(340, 3060, 307965)"
      ]
     },
     "execution_count": 66,
     "metadata": {},
     "output_type": "execute_result"
    }
   ],
   "source": [
    "len(timing),len(timing_slices), len(df_timing_slices)"
   ]
  },
  {
   "cell_type": "code",
   "execution_count": 67,
   "metadata": {
    "colab": {
     "base_uri": "https://localhost:8080/",
     "height": 130
    },
    "colab_type": "code",
    "executionInfo": {
     "elapsed": 1833,
     "status": "ok",
     "timestamp": 1587999354809,
     "user": {
      "displayName": "Christophe Loussert",
      "photoUrl": "",
      "userId": "16796903251132996478"
     },
     "user_tz": -120
    },
    "id": "P1sFrp-k0JZG",
    "outputId": "b4b32271-8411-479f-bef3-14420379aceb"
   },
   "outputs": [
    {
     "data": {
      "text/html": [
       "<div>\n",
       "<style scoped>\n",
       "    .dataframe tbody tr th:only-of-type {\n",
       "        vertical-align: middle;\n",
       "    }\n",
       "\n",
       "    .dataframe tbody tr th {\n",
       "        vertical-align: top;\n",
       "    }\n",
       "\n",
       "    .dataframe thead th {\n",
       "        text-align: right;\n",
       "    }\n",
       "</style>\n",
       "<table border=\"1\" class=\"dataframe\">\n",
       "  <thead>\n",
       "    <tr style=\"text-align: right;\">\n",
       "      <th></th>\n",
       "      <th>run</th>\n",
       "      <th>Epc</th>\n",
       "      <th>refListId</th>\n",
       "      <th>refListId_last</th>\n",
       "      <th>ciuchStartup</th>\n",
       "      <th>slice_id</th>\n",
       "      <th>slice</th>\n",
       "      <th>LogTime</th>\n",
       "      <th>ciuchStart</th>\n",
       "      <th>ciuchStop</th>\n",
       "      <th>ciuchStopdown</th>\n",
       "      <th>Rssi</th>\n",
       "      <th>loc</th>\n",
       "      <th>t0_run</th>\n",
       "    </tr>\n",
       "  </thead>\n",
       "  <tbody>\n",
       "    <tr>\n",
       "      <td>8970</td>\n",
       "      <td>2</td>\n",
       "      <td>epc_100</td>\n",
       "      <td>0</td>\n",
       "      <td>9</td>\n",
       "      <td>2019-11-07 18:54:55.894500096</td>\n",
       "      <td>up_0</td>\n",
       "      <td>2019-11-07 18:54:55.894500096</td>\n",
       "      <td>2019-11-07 18:54:56</td>\n",
       "      <td>2019-11-07 18:54:57.738</td>\n",
       "      <td>2019-11-07 18:54:59.584</td>\n",
       "      <td>2019-11-07 18:55:01.764999936</td>\n",
       "      <td>-68.0</td>\n",
       "      <td>in</td>\n",
       "      <td>2019-11-07 18:54:55.894500096</td>\n",
       "    </tr>\n",
       "  </tbody>\n",
       "</table>\n",
       "</div>"
      ],
      "text/plain": [
       "      run      Epc  refListId  refListId_last                  ciuchStartup  \\\n",
       "8970    2  epc_100          0               9 2019-11-07 18:54:55.894500096   \n",
       "\n",
       "     slice_id                         slice             LogTime  \\\n",
       "8970     up_0 2019-11-07 18:54:55.894500096 2019-11-07 18:54:56   \n",
       "\n",
       "                  ciuchStart               ciuchStop  \\\n",
       "8970 2019-11-07 18:54:57.738 2019-11-07 18:54:59.584   \n",
       "\n",
       "                     ciuchStopdown  Rssi loc                        t0_run  \n",
       "8970 2019-11-07 18:55:01.764999936 -68.0  in 2019-11-07 18:54:55.894500096  "
      ]
     },
     "execution_count": 67,
     "metadata": {},
     "output_type": "execute_result"
    }
   ],
   "source": [
    "df_timing_slices[:1]"
   ]
  },
  {
   "cell_type": "code",
   "execution_count": 24,
   "metadata": {
    "colab": {},
    "colab_type": "code",
    "id": "V0Xb3nX90JZL"
   },
   "outputs": [],
   "source": [
    "# df_timing_slices['dt']=\n",
    "df_timing_slices['dt']=(df_timing_slices['LogTime']-df_timing_slices['t0_run']).apply(lambda x:x.total_seconds())"
   ]
  },
  {
   "cell_type": "code",
   "execution_count": 25,
   "metadata": {
    "colab": {
     "base_uri": "https://localhost:8080/",
     "height": 94
    },
    "colab_type": "code",
    "executionInfo": {
     "elapsed": 1917,
     "status": "ok",
     "timestamp": 1588018877417,
     "user": {
      "displayName": "Christophe Loussert",
      "photoUrl": "",
      "userId": "16796903251132996478"
     },
     "user_tz": -120
    },
    "id": "Nw4PnZmD0JZQ",
    "outputId": "587f6e33-9477-499d-a1c0-bf01811843d3"
   },
   "outputs": [
    {
     "data": {
      "text/html": [
       "<div>\n",
       "<style scoped>\n",
       "    .dataframe tbody tr th:only-of-type {\n",
       "        vertical-align: middle;\n",
       "    }\n",
       "\n",
       "    .dataframe tbody tr th {\n",
       "        vertical-align: top;\n",
       "    }\n",
       "\n",
       "    .dataframe thead th {\n",
       "        text-align: right;\n",
       "    }\n",
       "</style>\n",
       "<table border=\"1\" class=\"dataframe\">\n",
       "  <thead>\n",
       "    <tr style=\"text-align: right;\">\n",
       "      <th></th>\n",
       "      <th>run</th>\n",
       "      <th>Epc</th>\n",
       "      <th>refListId</th>\n",
       "      <th>refListId_last</th>\n",
       "      <th>ciuchStartup</th>\n",
       "      <th>slice_id</th>\n",
       "      <th>slice</th>\n",
       "      <th>LogTime</th>\n",
       "      <th>ciuchStart</th>\n",
       "      <th>ciuchStop</th>\n",
       "      <th>ciuchStopdown</th>\n",
       "      <th>Rssi</th>\n",
       "      <th>loc</th>\n",
       "      <th>t0_run</th>\n",
       "      <th>dt</th>\n",
       "    </tr>\n",
       "  </thead>\n",
       "  <tbody>\n",
       "    <tr>\n",
       "      <td>8970</td>\n",
       "      <td>2</td>\n",
       "      <td>epc_100</td>\n",
       "      <td>0</td>\n",
       "      <td>9</td>\n",
       "      <td>2019-11-07 18:54:55.894500096</td>\n",
       "      <td>up_0</td>\n",
       "      <td>2019-11-07 18:54:55.894500096</td>\n",
       "      <td>2019-11-07 18:54:56</td>\n",
       "      <td>2019-11-07 18:54:57.738</td>\n",
       "      <td>2019-11-07 18:54:59.584</td>\n",
       "      <td>2019-11-07 18:55:01.764999936</td>\n",
       "      <td>-68.0</td>\n",
       "      <td>in</td>\n",
       "      <td>2019-11-07 18:54:55.894500096</td>\n",
       "      <td>0.1055</td>\n",
       "    </tr>\n",
       "  </tbody>\n",
       "</table>\n",
       "</div>"
      ],
      "text/plain": [
       "      run      Epc  refListId  refListId_last                  ciuchStartup  \\\n",
       "8970    2  epc_100          0               9 2019-11-07 18:54:55.894500096   \n",
       "\n",
       "     slice_id                         slice             LogTime  \\\n",
       "8970     up_0 2019-11-07 18:54:55.894500096 2019-11-07 18:54:56   \n",
       "\n",
       "                  ciuchStart               ciuchStop  \\\n",
       "8970 2019-11-07 18:54:57.738 2019-11-07 18:54:59.584   \n",
       "\n",
       "                     ciuchStopdown  Rssi loc                        t0_run  \\\n",
       "8970 2019-11-07 18:55:01.764999936 -68.0  in 2019-11-07 18:54:55.894500096   \n",
       "\n",
       "          dt  \n",
       "8970  0.1055  "
      ]
     },
     "execution_count": 25,
     "metadata": {},
     "output_type": "execute_result"
    }
   ],
   "source": [
    "df_timing_slices[:1]"
   ]
  },
  {
   "cell_type": "code",
   "execution_count": 26,
   "metadata": {
    "colab": {},
    "colab_type": "code",
    "id": "EjAm_PSS0JZU"
   },
   "outputs": [],
   "source": [
    "# \n",
    "# df_timing_threshold\n",
    "# "
   ]
  },
  {
   "cell_type": "code",
   "execution_count": 27,
   "metadata": {
    "colab": {},
    "colab_type": "code",
    "id": "OnuEm2dM0JZZ"
   },
   "outputs": [],
   "source": [
    "rssi_threshold=-110\n",
    "df_timing_slices_threshold=df_timing_slices[df_timing_slices['Rssi']>rssi_threshold]"
   ]
  },
  {
   "cell_type": "code",
   "execution_count": 28,
   "metadata": {
    "colab": {
     "base_uri": "https://localhost:8080/",
     "height": 84
    },
    "colab_type": "code",
    "executionInfo": {
     "elapsed": 588,
     "status": "ok",
     "timestamp": 1588018880132,
     "user": {
      "displayName": "Christophe Loussert",
      "photoUrl": "",
      "userId": "16796903251132996478"
     },
     "user_tz": -120
    },
    "id": "wfphpSFv0JZd",
    "outputId": "481323e7-24c7-4161-84e0-019495067ecc"
   },
   "outputs": [
    {
     "data": {
      "text/plain": [
       "loc\n",
       "in     100.00\n",
       "out     99.29\n",
       "Name: Epc, dtype: float64"
      ]
     },
     "execution_count": 28,
     "metadata": {},
     "output_type": "execute_result"
    }
   ],
   "source": [
    "# readrate\n",
    "# readrate\n",
    "round(100*df_timing_slices_threshold.reset_index(drop=False).groupby(['run','loc'])['Epc'].nunique().groupby('loc').mean()\\\n",
    "    /reflist['Epc'].nunique(),2)"
   ]
  }
 ],
 "metadata": {
  "colab": {
   "name": "tunnel knn analytical v23.ipynb",
   "provenance": []
  },
  "kernelspec": {
   "display_name": "Python 3",
   "language": "python",
   "name": "python3"
  },
  "language_info": {
   "codemirror_mode": {
    "name": "ipython",
    "version": 3
   },
   "file_extension": ".py",
   "mimetype": "text/x-python",
   "name": "python",
   "nbconvert_exporter": "python",
   "pygments_lexer": "ipython3",
   "version": "3.7.4"
  }
 },
 "nbformat": 4,
 "nbformat_minor": 1
}
